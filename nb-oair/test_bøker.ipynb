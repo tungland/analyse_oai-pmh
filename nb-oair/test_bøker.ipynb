{
 "cells": [
  {
   "attachments": {},
   "cell_type": "markdown",
   "metadata": {},
   "source": [
    "# Experimentation with oair"
   ]
  },
  {
   "cell_type": "code",
   "execution_count": 1,
   "metadata": {},
   "outputs": [],
   "source": [
    "import requests\n",
    "from bs4 import BeautifulSoup"
   ]
  },
  {
   "cell_type": "code",
   "execution_count": 2,
   "metadata": {},
   "outputs": [],
   "source": [
    "example_book_request = \"https://www.nb.no/oai/repository?verb=ListRecords&from=2023-01-11T11%3A27%3A57Z&until=2023-01-12T11%3A27%3A57Z&set=b%C3%B8ker&metadataPrefix=mods\""
   ]
  },
  {
   "cell_type": "code",
   "execution_count": 3,
   "metadata": {},
   "outputs": [],
   "source": [
    "res = requests.get(example_book_request)"
   ]
  },
  {
   "cell_type": "code",
   "execution_count": 5,
   "metadata": {},
   "outputs": [],
   "source": [
    "xml = BeautifulSoup(res.text, \"lxml-html\")"
   ]
  },
  {
   "cell_type": "code",
   "execution_count": 10,
   "metadata": {},
   "outputs": [
    {
     "data": {
      "text/plain": [
       "<record><header><identifier>oai:nb.no:65131738cf654bbbae265b67385718e1</identifier><datestamp>2023-01-12T03:00:48Z</datestamp></header><metadata><mods xmlns=\"http://www.loc.gov/mods/v3\" xmlns:nbmodsext=\"http://www.nb.no/NBModsExtension/v1\">\n",
       "<titleinfo>\n",
       "<title>Co to ten rak?</title>\n",
       "</titleinfo>\n",
       "<titleinfo displaylabel=\"Originaltittel\" type=\"alternative\">\n",
       "<title>Wie ist das mit dem Krebs?</title>\n",
       "</titleinfo>\n",
       "<name type=\"personal\" usage=\"primary\">\n",
       "<namepart>Herlofsen, Sarah Roxana</namepart>\n",
       "<namepart type=\"date\">1982-</namepart>\n",
       "<role>\n",
       "<roleterm authority=\"marcrelator\" type=\"code\">aut</roleterm>\n",
       "</role>\n",
       "</name>\n",
       "<name type=\"personal\">\n",
       "<namepart>Geisler, Dagmar</namepart>\n",
       "<affiliation>t.</affiliation>\n",
       "<role>\n",
       "<roleterm authority=\"marcrelator\" type=\"code\">ill</roleterm>\n",
       "</role>\n",
       "</name>\n",
       "<typeofresource>text</typeofresource>\n",
       "<genre type=\"literaryform\">notfiction</genre>\n",
       "<origininfo>\n",
       "<issuance>monographic</issuance>\n",
       "</origininfo>\n",
       "<origininfo eventtype=\"publication\">\n",
       "<place>\n",
       "<placeterm type=\"text\">Warszawa</placeterm>\n",
       "</place>\n",
       "<publisher>Mamania</publisher>\n",
       "<dateissued>2019</dateissued>\n",
       "</origininfo>\n",
       "<language>\n",
       "<languageterm authority=\"iso639-2b\" type=\"code\">pol</languageterm>\n",
       "</language>\n",
       "<language objectpart=\"translation\">\n",
       "<languageterm authority=\"iso639-2b\" type=\"code\">ger</languageterm>\n",
       "</language>\n",
       "<physicaldescription>\n",
       "<form authority=\"marcform\">print</form>\n",
       "<extent>92 sider illustrasjoner  i farger</extent>\n",
       "</physicaldescription>\n",
       "<abstract>Boka er skrevet for alle barn som kjenner noen med kreft eller som er blitt syke selv. Med hjelp av mange fine bilder kan barna lese om hvordan cellene blir syke og hvordan vi kan hjelpe kroppen til å bli frisk igjen. Forfatteren har i tillegg samlet mange personlige spørsmål fra barn og barnefamilier som har blitt rammet av kreft</abstract>\n",
       "<targetaudience authority=\"normarctarget\">Barn og ungdom</targetaudience>\n",
       "<targetaudience authority=\"nortarget\">6-8 år</targetaudience>\n",
       "<targetaudience authority=\"nortarget\">9-10 år</targetaudience>\n",
       "<note type=\"statement of responsibility\">Dr. Sarah Herlofsen ; [illustrert av] Dagmar Geisler ; [oversatt av] Jowita Maksymowicz-Hamann</note>\n",
       "<note>Norsk tittel: Hva er egentlig kreft? ; en bok full av kunnskap, trøst og håp</note>\n",
       "<subject>\n",
       "<topic>Kreft</topic>\n",
       "</subject>\n",
       "<classification authority=\"ddc\" edition=\"23/nor\">616.994</classification>\n",
       "<identifier type=\"isbn\">978-83-66329-18-8</identifier>\n",
       "<location>\n",
       "<physicallocation authority=\"isil\">NO-2030001</physicallocation>\n",
       "<holdingsimple>\n",
       "<copyinformation>\n",
       "<sublocation>Det flerspråklige bibliotek</sublocation>\n",
       "</copyinformation>\n",
       "</holdingsimple>\n",
       "</location>\n",
       "<location>\n",
       "<physicallocation authority=\"isil\">NO-2030001</physicallocation>\n",
       "<holdingsimple>\n",
       "<copyinformation>\n",
       "<sublocation>Det flerspråklige bibliotek</sublocation>\n",
       "</copyinformation>\n",
       "</holdingsimple>\n",
       "</location>\n",
       "<recordinfo>\n",
       "<descriptionstandard>rda</descriptionstandard>\n",
       "<recordcontentsource authority=\"marcorg\">NO-OsNB</recordcontentsource>\n",
       "<recordcreationdate encoding=\"marc\">230110</recordcreationdate>\n",
       "<recordidentifier source=\"bibliofil.no:NO-2030001\">2491767</recordidentifier>\n",
       "<recordorigin>Converted from MARCXML to MODS version 3.3 using marcxchange_MARC21slim2mods_DFB.xsl    (Revision 1.61)</recordorigin>\n",
       "<languageofcataloging>\n",
       "<languageterm authority=\"iso639-2b\" type=\"code\">nob</languageterm>\n",
       "</languageofcataloging>\n",
       "</recordinfo>\n",
       "<identifier type=\"sesamid\">65131738cf654bbbae265b67385718e1</identifier>\n",
       "<identifier type=\"oaiid\">oai:bibliofil.no:NO-2030001:2491767</identifier>\n",
       "</mods>\n",
       "</metadata></record>"
      ]
     },
     "execution_count": 10,
     "metadata": {},
     "output_type": "execute_result"
    }
   ],
   "source": [
    "xml.find_all(\"record\")[2]"
   ]
  }
 ],
 "metadata": {
  "kernelspec": {
   "display_name": "dataproc",
   "language": "python",
   "name": "python3"
  },
  "language_info": {
   "codemirror_mode": {
    "name": "ipython",
    "version": 3
   },
   "file_extension": ".py",
   "mimetype": "text/x-python",
   "name": "python",
   "nbconvert_exporter": "python",
   "pygments_lexer": "ipython3",
   "version": "3.11.3"
  },
  "orig_nbformat": 4
 },
 "nbformat": 4,
 "nbformat_minor": 2
}
