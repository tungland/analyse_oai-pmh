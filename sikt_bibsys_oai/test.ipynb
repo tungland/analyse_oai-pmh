{
 "cells": [
  {
   "cell_type": "code",
   "execution_count": 4,
   "metadata": {},
   "outputs": [
    {
     "name": "stdout",
     "output_type": "stream",
     "text": [
      "<?xml version=\"1.0\" encoding=\"UTF-8\"?><OAI-PMH xsi:schemaLocation=\"http://www.openarchives.org/OAI/2.0/ http://www.openarchives.org/OAI/2.0/OAI-PMH.xsd\" xmlns=\"http://www.openarchives.org/OAI/2.0/\" xmlns:xsi=\"http://www.w3.org/2001/XMLSchema-instance\">\n",
      "  <responseDate>2023-05-11T14:16:53Z</responseDate>\n",
      "  <request verb=\"ListMetadataFormats\">https://bibsys-network.alma.exlibrisgroup.com/view/oai/47BIBSYS_NETWORK/request</request>\n",
      "  <ListMetadataFormats>\n",
      "    <metadataFormat>\n",
      "      <metadataPrefix>mods</metadataPrefix>\n",
      "      <schema>http://www.loc.gov/mods/v3 http://www.loc.gov/standards/mods/v3/mods-3-5.xsd</schema>\n",
      "      <metadataNamespace>http://www.loc.gov/mods/v3</metadataNamespace>\n",
      "    </metadataFormat>\n",
      "    <metadataFormat>\n",
      "      <metadataPrefix>oai_dc</metadataPrefix>\n",
      "      <schema>http://www.openarchives.org/OAI/2.0/oai_dc.xsd</schema>\n",
      "      <metadataNamespace>http://www.openarchives.org/OAI/2.0/oai_dc/</metadataNamespace>\n",
      "    </metadataFormat>\n",
      "    <metadataFormat>\n",
      "      <metadataPrefix>oai_qdc</metadataPrefix>\n",
      "      <schema>http://alma.exlibrisgroup.com/schemas/qdc-1.0/qdc.xsd</schema>\n",
      "      <metadataNamespace>http://alma.exlibrisgroup.com/schemas/qdc-1.0/</metadataNamespace>\n",
      "    </metadataFormat>\n",
      "    <metadataFormat>\n",
      "      <metadataPrefix>marc21</metadataPrefix>\n",
      "      <schema>http://www.loc.gov/standards/marcxml/schema/MARC21slim.xsd</schema>\n",
      "      <metadataNamespace>http://www.loc.gov/MARC21/slim</metadataNamespace>\n",
      "    </metadataFormat>\n",
      "    <metadataFormat>\n",
      "      <metadataPrefix>etdms</metadataPrefix>\n",
      "      <schema>http://www.ndltd.org/standards/metadata/etdms/1-1/etdms11.xsd</schema>\n",
      "      <metadataNamespace>http://www.ndltd.org/standards/metadata/etdms/1-1/</metadataNamespace>\n",
      "    </metadataFormat>\n",
      "  </ListMetadataFormats>\n",
      "</OAI-PMH>\n"
     ]
    }
   ],
   "source": [
    "import requests\n",
    "\n",
    "# Replace this with the OAI-PMH endpoint you're working with\n",
    "base_url = \"https://bibsys.alma.exlibrisgroup.com/view/oai/47BIBSYS_NETWORK/request\"\n",
    "\n",
    "# Set the necessary OAI-PMH parameters for a ListRecords request\n",
    "params = {\n",
    "   # \"verb\": \"ListSets\",\n",
    "   # \"metadataPrefix\": \"oai_dc\"  # Replace this with the metadata format you're interested in\n",
    "   \"verb\" : \"ListMetadataFormats\"\n",
    "}\n",
    "\n",
    "# Optionally, you can set a 'set' parameter if you want to harvest records from a specific set\n",
    "# params[\"set\"] = \"your_set_spec\"\n",
    "\n",
    "# Send the HTTP GET request to the OAI-PMH endpoint\n",
    "response = requests.get(base_url, params=params)\n",
    "\n",
    "if response.status_code == 200:\n",
    "    # Print the XML response\n",
    "    print(response.text)\n",
    "else:\n",
    "    print(f\"Request failed with status code: {response.status_code}\")\n"
   ]
  },
  {
   "cell_type": "code",
   "execution_count": null,
   "metadata": {},
   "outputs": [],
   "source": []
  }
 ],
 "metadata": {
  "kernelspec": {
   "display_name": "dataproc",
   "language": "python",
   "name": "python3"
  },
  "language_info": {
   "codemirror_mode": {
    "name": "ipython",
    "version": 3
   },
   "file_extension": ".py",
   "mimetype": "text/x-python",
   "name": "python",
   "nbconvert_exporter": "python",
   "pygments_lexer": "ipython3",
   "version": "3.11.3"
  },
  "orig_nbformat": 4
 },
 "nbformat": 4,
 "nbformat_minor": 2
}
